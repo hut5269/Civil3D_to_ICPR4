{
 "cells": [
  {
   "cell_type": "code",
   "execution_count": 1,
   "metadata": {},
   "outputs": [
    {
     "name": "stdout",
     "output_type": "stream",
     "text": [
      "Select script(s) to run\n"
     ]
    },
    {
     "data": {
      "application/vnd.jupyter.widget-view+json": {
       "model_id": "576d426e09d540208b80e49c6b5786ee",
       "version_major": 2,
       "version_minor": 0
      },
      "text/plain": [
       "Checkbox(value=False, description='Create Simulation Files')"
      ]
     },
     "metadata": {},
     "output_type": "display_data"
    },
    {
     "data": {
      "application/vnd.jupyter.widget-view+json": {
       "model_id": "75b238456c0446298baaca91b7e5ee55",
       "version_major": 2,
       "version_minor": 0
      },
      "text/plain": [
       "Checkbox(value=False, description='Correct Pipe Flow Direction')"
      ]
     },
     "metadata": {},
     "output_type": "display_data"
    },
    {
     "data": {
      "application/vnd.jupyter.widget-view+json": {
       "model_id": "b809a3d3677b4a59bccab9d061599d85",
       "version_major": 2,
       "version_minor": 0
      },
      "text/plain": [
       "Checkbox(value=False, description='Create Boundary Files')"
      ]
     },
     "metadata": {},
     "output_type": "display_data"
    },
    {
     "data": {
      "application/vnd.jupyter.widget-view+json": {
       "model_id": "84b7a0922b9c4a0d97231f6a9d104ac6",
       "version_major": 2,
       "version_minor": 0
      },
      "text/plain": [
       "Checkbox(value=False, description='Create Basin File')"
      ]
     },
     "metadata": {},
     "output_type": "display_data"
    },
    {
     "data": {
      "application/vnd.jupyter.widget-view+json": {
       "model_id": "da09e54dda8644b79b4e0cfc471bd7a8",
       "version_major": 2,
       "version_minor": 0
      },
      "text/plain": [
       "Dropdown(description='Peaking Factor', disabled=True, index=1, options=('256', '323', '484'), value='323')"
      ]
     },
     "metadata": {},
     "output_type": "display_data"
    }
   ],
   "source": [
    "import ipywidgets as widgets\n",
    "from IPython.display import clear_output\n",
    "\n",
    "\n",
    "def checkbox_change_event(change):\n",
    "    if dropdown.disabled:\n",
    "        dropdown.disabled = False\n",
    "    else:\n",
    "        dropdown.disabled = True\n",
    "\n",
    "option_1 = \"Create Simulation Files\"\n",
    "option_2 = \"Correct Pipe Flow Direction\"\n",
    "option_3 = \"Create Boundary Files\"\n",
    "option_4 = \"Create Basin File\"\n",
    "unit_hydrographs = [['UH256', '256'], ['UH323', '323'], ['UH484', '484']]\n",
    "drop_options     = []\n",
    "\n",
    "for unit_hydrograph in unit_hydrographs:\n",
    "    drop_options.append(unit_hydrograph[1])\n",
    "\n",
    "checkbox_1 = widgets.Checkbox(value=False, description=option_1)\n",
    "checkbox_2 = widgets.Checkbox(value=False, description=option_2)\n",
    "checkbox_3 = widgets.Checkbox(value=False, description=option_3)\n",
    "checkbox_4 = widgets.Checkbox(value=False, description=option_4)\n",
    "dropdown   = widgets.Dropdown(\n",
    "                options=drop_options,\n",
    "                value=drop_options[1],\n",
    "                description='Peaking Factor',\n",
    "                disabled=True,)\n",
    "\n",
    "checkboxes = [checkbox_1, checkbox_2, checkbox_3, checkbox_4]\n",
    "\n",
    "clear_output()\n",
    "print(\"Select script(s) to run\")\n",
    "checkbox_4.observe(checkbox_change_event, names='value')\n",
    "display(checkbox_1, checkbox_2, checkbox_3, checkbox_4, dropdown)"
   ]
  },
  {
   "cell_type": "code",
   "execution_count": null,
   "metadata": {},
   "outputs": [],
   "source": [
    "import pandas as pd\n",
    "import create_boundary as cb \n",
    "import convert_catchments as cc\n",
    "import create_simulations as csim\n",
    "\n",
    "from ipywidgets import FileUpload\n",
    "from IPython.display import display\n",
    "\n",
    "selected_options = []\n",
    "\n",
    "for i in range(0, len(checkboxes)):\n",
    "    if checkboxes[i].value == True:\n",
    "        selected_options = selected_options + [checkboxes[i].description]\n",
    "\n",
    "if len(selected_options) == 0:\n",
    "    print(\"NOTHING SELECTED, DUMB ASS!!!!\")\n",
    "\n",
    "else:\n",
    "    if option_1 in selected_options:\n",
    "        rain_df = csim.simulations()\n",
    "        sim_df = pd.read_csv ('/Input/Collection-Simulation.csv')\n",
    "        sim_df['RainfallAmount'] = rain_df['RainfallAmount']\n",
    "        sim_df.to_csv('/Output/Simulation_Files/Collection-Simulation.csv', encoding='utf-8', index=False)\n",
    "        clear_output()\n",
    "    if option_2 in selected_options:\n",
    "        user_file = FileUpload(accept='.csv', multiple=False)\n",
    "        display(user_file)\n",
    "        with open(\"Input/pipes.csv\", \"w+b\") as i:\n",
    "            i.write(user_file.value[0]['content'] )\n",
    "        # user_file\n",
    "        # cp.pipes()\n",
    "        # clear_output()\n",
    "    if option_3 in selected_options:\n",
    "        clear_output\n",
    "        cb.boundary()\n",
    "    if option_4 in selected_options:\n",
    "        cc.catchments(dropdown.value)\n",
    "        clear_output()"
   ]
  }
 ],
 "metadata": {
  "kernelspec": {
   "display_name": "venv",
   "language": "python",
   "name": "python3"
  },
  "language_info": {
   "codemirror_mode": {
    "name": "ipython",
    "version": 3
   },
   "file_extension": ".py",
   "mimetype": "text/x-python",
   "name": "python",
   "nbconvert_exporter": "python",
   "pygments_lexer": "ipython3",
   "version": "3.9.15"
  },
  "orig_nbformat": 4
 },
 "nbformat": 4,
 "nbformat_minor": 2
}

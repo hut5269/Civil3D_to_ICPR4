{
 "cells": [
  {
   "cell_type": "code",
   "execution_count": null,
   "metadata": {},
   "outputs": [],
   "source": [
    "import os\n",
    "import sys\n",
    "from re import X\n",
    "import ipywidgets as widgets\n",
    "from IPython.display import clear_output\n",
    "\n",
    "\n",
    "%cd /content/\n",
    "!rm -rf /content/module_import/\n",
    "!git clone https://github.com/hut5269/Civil3D_to_ICPR4.git\n",
    "sys.path.insert(0,'/content/module_import')\n",
    "\n",
    "def checkbox_change_event(change):\n",
    "    if dropdown.disabled:\n",
    "        dropdown.disabled = False\n",
    "    else:\n",
    "        dropdown.disabled = True\n",
    "\n",
    "option_1 = \"Create Simulation Files\"\n",
    "option_2 = \"Correct Pipe Flow Direction\"\n",
    "option_3 = \"Create Boundary Files\"\n",
    "option_4 = \"Create Basin File\"\n",
    "unit_hydrographs = [['UH256', '256'], ['UH323', '323'], ['UH484', '484']]\n",
    "drop_options     = []\n",
    "\n",
    "for unit_hydrograph in unit_hydrographs:\n",
    "    drop_options.append(unit_hydrograph[1])\n",
    "\n",
    "checkbox_1 = widgets.Checkbox(value=False, description=option_1)\n",
    "checkbox_2 = widgets.Checkbox(value=False, description=option_2)\n",
    "checkbox_3 = widgets.Checkbox(value=False, description=option_3)\n",
    "checkbox_4 = widgets.Checkbox(value=False, description=option_4)\n",
    "dropdown   = widgets.Dropdown(\n",
    "                options=drop_options,\n",
    "                value=drop_options[1],\n",
    "                description='Peaking Factor',\n",
    "                disabled=True,)\n",
    "\n",
    "checkboxes = [checkbox_1, checkbox_2, checkbox_3, checkbox_4]\n",
    "\n",
    "clear_output()\n",
    "print(\"Select script(s) to run\")\n",
    "checkbox_4.observe(checkbox_change_event, names='value')\n",
    "display(checkbox_1, checkbox_2, checkbox_3, checkbox_4, dropdown)"
   ]
  }
 ],
 "metadata": {
  "language_info": {
   "name": "python"
  },
  "orig_nbformat": 4
 },
 "nbformat": 4,
 "nbformat_minor": 2
}
